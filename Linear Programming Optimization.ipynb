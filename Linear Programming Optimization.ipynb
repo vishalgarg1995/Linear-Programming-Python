{
 "cells": [
  {
   "cell_type": "code",
   "execution_count": 1,
   "id": "f7280d6d",
   "metadata": {},
   "outputs": [
    {
     "name": "stdout",
     "output_type": "stream",
     "text": [
      "Collecting cplex\n",
      "  Downloading cplex-22.1.1.0-cp39-cp39-win_amd64.whl (26.4 MB)\n",
      "     ---------------------------------------- 26.4/26.4 MB 3.0 MB/s eta 0:00:00\n",
      "Installing collected packages: cplex\n",
      "Successfully installed cplex-22.1.1.0\n"
     ]
    },
    {
     "name": "stderr",
     "output_type": "stream",
     "text": [
      "WARNING: Ignoring invalid distribution -rotobuf (c:\\users\\vishal garg\\anaconda3\\lib\\site-packages)\n",
      "WARNING: Ignoring invalid distribution -rotobuf (c:\\users\\vishal garg\\anaconda3\\lib\\site-packages)\n"
     ]
    }
   ],
   "source": [
    "!pip install cplex"
   ]
  },
  {
   "cell_type": "code",
   "execution_count": 2,
   "id": "a34c439e",
   "metadata": {},
   "outputs": [
    {
     "name": "stderr",
     "output_type": "stream",
     "text": [
      "WARNING: Ignoring invalid distribution -rotobuf (c:\\users\\vishal garg\\anaconda3\\lib\\site-packages)\n",
      "WARNING: Ignoring invalid distribution -rotobuf (c:\\users\\vishal garg\\anaconda3\\lib\\site-packages)\n"
     ]
    },
    {
     "name": "stdout",
     "output_type": "stream",
     "text": [
      "Requirement already satisfied: docplex in c:\\users\\vishal garg\\anaconda3\\lib\\site-packages (2.25.236)\n",
      "Requirement already satisfied: six in c:\\users\\vishal garg\\anaconda3\\lib\\site-packages (from docplex) (1.16.0)\n"
     ]
    }
   ],
   "source": [
    "!pip install docplex"
   ]
  },
  {
   "cell_type": "code",
   "execution_count": 3,
   "id": "03dabc1a",
   "metadata": {},
   "outputs": [],
   "source": [
    "from docplex.mp.model import Model"
   ]
  },
  {
   "cell_type": "code",
   "execution_count": 4,
   "id": "3eb250e8",
   "metadata": {},
   "outputs": [],
   "source": [
    "milp_model = Model(name = 'MILF')"
   ]
  },
  {
   "cell_type": "code",
   "execution_count": 5,
   "id": "df3c29fd",
   "metadata": {},
   "outputs": [],
   "source": [
    "x=milp_model.binary_var(name='x')\n",
    "y=milp_model.continuous_var(name = 'y',lb=0)\n",
    "z=milp_model.integer_var(name=\"z\",lb=0)"
   ]
  },
  {
   "cell_type": "code",
   "execution_count": 8,
   "id": "b8071033",
   "metadata": {},
   "outputs": [],
   "source": [
    "c1 = milp_model.add_constraint(x+2*y+z<=4,ctname=\"c1\")\n",
    "\n",
    "c2= milp_model.add_constraint(2*z+y<=5, ctname = \"c2\")\n",
    "\n",
    "c3= milp_model.add_constraint(x+y>=1,ctname = \"c3\")"
   ]
  },
  {
   "cell_type": "code",
   "execution_count": 9,
   "id": "569b6d7a",
   "metadata": {},
   "outputs": [
    {
     "name": "stdout",
     "output_type": "stream",
     "text": [
      "Model: MILF\n",
      " - number of variables: 3\n",
      "   - binary=1, integer=1, continuous=1\n",
      " - number of constraints: 6\n",
      "   - linear=6\n",
      " - parameters: defaults\n",
      " - objective: maximize\n",
      " - problem type is: MILP\n"
     ]
    }
   ],
   "source": [
    "obj_fn = 2*x+y+3*z\n",
    "\n",
    "milp_model.set_objective('max', obj_fn)\n",
    "\n",
    "milp_model.print_information()"
   ]
  },
  {
   "cell_type": "code",
   "execution_count": 10,
   "id": "c606adea",
   "metadata": {},
   "outputs": [
    {
     "data": {
      "text/plain": [
       "docplex.mp.solution.SolveSolution(obj=8.5,values={x:1,y:0.5,z:2})"
      ]
     },
     "execution_count": 10,
     "metadata": {},
     "output_type": "execute_result"
    }
   ],
   "source": [
    "milp_model.solve()"
   ]
  },
  {
   "cell_type": "code",
   "execution_count": 11,
   "id": "6b34c606",
   "metadata": {},
   "outputs": [
    {
     "name": "stdout",
     "output_type": "stream",
     "text": [
      "objective: 8.500\n",
      "status: OPTIMAL_SOLUTION(2)\n",
      "  x=1\n",
      "  y=0.500\n",
      "  z=2\n"
     ]
    }
   ],
   "source": [
    "milp_model.print_solution()"
   ]
  },
  {
   "cell_type": "code",
   "execution_count": 16,
   "id": "3730833f",
   "metadata": {},
   "outputs": [],
   "source": []
  },
  {
   "cell_type": "code",
   "execution_count": null,
   "id": "37988b0a",
   "metadata": {},
   "outputs": [],
   "source": []
  }
 ],
 "metadata": {
  "kernelspec": {
   "display_name": "Python 3 (ipykernel)",
   "language": "python",
   "name": "python3"
  },
  "language_info": {
   "codemirror_mode": {
    "name": "ipython",
    "version": 3
   },
   "file_extension": ".py",
   "mimetype": "text/x-python",
   "name": "python",
   "nbconvert_exporter": "python",
   "pygments_lexer": "ipython3",
   "version": "3.11.4"
  }
 },
 "nbformat": 4,
 "nbformat_minor": 5
}
