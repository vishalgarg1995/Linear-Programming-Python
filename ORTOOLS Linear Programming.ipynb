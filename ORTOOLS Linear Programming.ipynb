{
 "cells": [
  {
   "cell_type": "code",
   "execution_count": 1,
   "id": "9f23e18d",
   "metadata": {},
   "outputs": [
    {
     "name": "stdout",
     "output_type": "stream",
     "text": [
      "Defaulting to user installation because normal site-packages is not writeable\n",
      "Requirement already satisfied: cplex in c:\\users\\vishal garg\\appdata\\roaming\\python\\python311\\site-packages (22.1.1.1)\n"
     ]
    }
   ],
   "source": [
    "!pip install cplex"
   ]
  },
  {
   "cell_type": "code",
   "execution_count": 2,
   "id": "43c04fb2",
   "metadata": {},
   "outputs": [
    {
     "name": "stdout",
     "output_type": "stream",
     "text": [
      "Defaulting to user installation because normal site-packages is not writeable\n",
      "Requirement already satisfied: docplex in c:\\users\\vishal garg\\appdata\\roaming\\python\\python311\\site-packages (2.25.236)\n",
      "Requirement already satisfied: six in c:\\programdata\\anaconda3\\lib\\site-packages (from docplex) (1.16.0)\n"
     ]
    }
   ],
   "source": [
    "!pip install docplex"
   ]
  },
  {
   "cell_type": "code",
   "execution_count": 22,
   "id": "a934cf3b",
   "metadata": {},
   "outputs": [],
   "source": [
    "from docplex.mp.model import Model"
   ]
  },
  {
   "cell_type": "code",
   "execution_count": 23,
   "id": "b497bd3b",
   "metadata": {},
   "outputs": [],
   "source": [
    "milp_model = Model(name = 'MILF')"
   ]
  },
  {
   "cell_type": "code",
   "execution_count": 28,
   "id": "d9bb6254",
   "metadata": {},
   "outputs": [
    {
     "name": "stdout",
     "output_type": "stream",
     "text": [
      "Warning: Duplicate variable name: x already used for docplex.mp.Var(type=B,name='x')\n",
      "Warning: Duplicate variable name: y already used for docplex.mp.Var(type=C,name='y')\n"
     ]
    }
   ],
   "source": [
    "x=milp_model.binary_var(name='x')\n",
    "y=milp_model.continuous_var(name = 'y',lb=0)\n",
    "#z=milp_model.integer_var(name=\"z\",lb=0)"
   ]
  },
  {
   "cell_type": "code",
   "execution_count": 29,
   "id": "cc8f0ae6",
   "metadata": {},
   "outputs": [],
   "source": [
    "c1 = milp_model.add_constraint(4*x+3*y<=240,ctname=\"c1\")\n",
    "\n",
    "c2= milp_model.add_constraint(2*x+y<=100, ctname = \"c2\")\n",
    "\n",
    "#c3= milp_model.add_constraint(x>=0,y>=0,ctname =\"c3\")"
   ]
  },
  {
   "cell_type": "code",
   "execution_count": 30,
   "id": "766ab59a",
   "metadata": {},
   "outputs": [
    {
     "name": "stdout",
     "output_type": "stream",
     "text": [
      "Model: MILF\n",
      " - number of variables: 4\n",
      "   - binary=3, integer=0, continuous=1\n",
      " - number of constraints: 4\n",
      "   - linear=4\n",
      " - parameters: defaults\n",
      " - objective: maximize\n",
      " - problem type is: MILP\n"
     ]
    }
   ],
   "source": [
    "obj_fn = 7*x+5*y\n",
    "\n",
    "milp_model.set_objective('max', obj_fn)\n",
    "\n",
    "milp_model.print_information()"
   ]
  },
  {
   "cell_type": "code",
   "execution_count": 31,
   "id": "250481e3",
   "metadata": {},
   "outputs": [
    {
     "data": {
      "text/plain": [
       "docplex.mp.solution.SolveSolution(obj=12,values={x:1,x:1,y:1})"
      ]
     },
     "execution_count": 31,
     "metadata": {},
     "output_type": "execute_result"
    }
   ],
   "source": [
    "milp_model.solve()"
   ]
  },
  {
   "cell_type": "code",
   "execution_count": null,
   "id": "1e4c5b7c",
   "metadata": {},
   "outputs": [],
   "source": [
    "NEW WAY TO DO"
   ]
  },
  {
   "cell_type": "code",
   "execution_count": 33,
   "id": "2a564599",
   "metadata": {},
   "outputs": [
    {
     "name": "stdout",
     "output_type": "stream",
     "text": [
      "Defaulting to user installation because normal site-packages is not writeable\n",
      "Collecting ortools\n",
      "  Obtaining dependency information for ortools from https://files.pythonhosted.org/packages/08/65/08545dbc70b25741cfd9f2898f0cafd95915ac7dbb1e96e53ff4dba6b47a/ortools-9.8.3296-cp311-cp311-win_amd64.whl.metadata\n",
      "  Downloading ortools-9.8.3296-cp311-cp311-win_amd64.whl.metadata (2.9 kB)\n",
      "Collecting absl-py>=2.0.0 (from ortools)\n",
      "  Obtaining dependency information for absl-py>=2.0.0 from https://files.pythonhosted.org/packages/01/e4/dc0a1dcc4e74e08d7abedab278c795eef54a224363bb18f5692f416d834f/absl_py-2.0.0-py3-none-any.whl.metadata\n",
      "  Downloading absl_py-2.0.0-py3-none-any.whl.metadata (2.3 kB)\n",
      "Requirement already satisfied: numpy>=1.13.3 in c:\\programdata\\anaconda3\\lib\\site-packages (from ortools) (1.24.3)\n",
      "Collecting pandas>=2.0.0 (from ortools)\n",
      "  Obtaining dependency information for pandas>=2.0.0 from https://files.pythonhosted.org/packages/97/d8/dc2f6bff06a799a5603c414afc6de39c6351fe34892d50b6a077df3be6ac/pandas-2.1.3-cp311-cp311-win_amd64.whl.metadata\n",
      "  Downloading pandas-2.1.3-cp311-cp311-win_amd64.whl.metadata (18 kB)\n",
      "Collecting protobuf>=4.25.0 (from ortools)\n",
      "  Obtaining dependency information for protobuf>=4.25.0 from https://files.pythonhosted.org/packages/fe/6b/7f177e8d6fe4caa14f4065433af9f879d4fab84f0d17dcba7b407f6bd808/protobuf-4.25.1-cp310-abi3-win_amd64.whl.metadata\n",
      "  Downloading protobuf-4.25.1-cp310-abi3-win_amd64.whl.metadata (541 bytes)\n",
      "Requirement already satisfied: python-dateutil>=2.8.2 in c:\\programdata\\anaconda3\\lib\\site-packages (from pandas>=2.0.0->ortools) (2.8.2)\n",
      "Requirement already satisfied: pytz>=2020.1 in c:\\programdata\\anaconda3\\lib\\site-packages (from pandas>=2.0.0->ortools) (2022.7)\n",
      "Requirement already satisfied: tzdata>=2022.1 in c:\\users\\vishal garg\\appdata\\roaming\\python\\python311\\site-packages (from pandas>=2.0.0->ortools) (2023.3)\n",
      "Requirement already satisfied: six>=1.5 in c:\\programdata\\anaconda3\\lib\\site-packages (from python-dateutil>=2.8.2->pandas>=2.0.0->ortools) (1.16.0)\n",
      "Downloading ortools-9.8.3296-cp311-cp311-win_amd64.whl (101.1 MB)\n",
      "   ---------------------------------------- 0.0/101.1 MB ? eta -:--:--\n",
      "   ---------------------------------------- 0.5/101.1 MB 16.3 MB/s eta 0:00:07\n",
      "    --------------------------------------- 1.6/101.1 MB 20.5 MB/s eta 0:00:05\n",
      "   - -------------------------------------- 2.9/101.1 MB 23.2 MB/s eta 0:00:05\n",
      "   - -------------------------------------- 4.8/101.1 MB 27.6 MB/s eta 0:00:04\n",
      "   -- ------------------------------------- 7.0/101.1 MB 31.7 MB/s eta 0:00:03\n",
      "   -- ------------------------------------- 7.3/101.1 MB 33.4 MB/s eta 0:00:03\n",
      "   -- ------------------------------------- 7.3/101.1 MB 33.4 MB/s eta 0:00:03\n",
      "   -- ------------------------------------- 7.3/101.1 MB 33.4 MB/s eta 0:00:03\n",
      "   -- ------------------------------------- 7.3/101.1 MB 33.4 MB/s eta 0:00:03\n",
      "   -- ------------------------------------- 7.3/101.1 MB 33.4 MB/s eta 0:00:03\n",
      "   --- ------------------------------------ 7.8/101.1 MB 15.7 MB/s eta 0:00:06\n",
      "   --- ------------------------------------ 10.1/101.1 MB 18.4 MB/s eta 0:00:05\n",
      "   ---- ----------------------------------- 12.6/101.1 MB 20.5 MB/s eta 0:00:05\n",
      "   ------ --------------------------------- 15.6/101.1 MB 22.6 MB/s eta 0:00:04\n",
      "   ------- -------------------------------- 17.9/101.1 MB 50.4 MB/s eta 0:00:02\n",
      "   -------- ------------------------------- 20.6/101.1 MB 54.4 MB/s eta 0:00:02\n",
      "   --------- ------------------------------ 23.1/101.1 MB 59.5 MB/s eta 0:00:02\n",
      "   --------- ------------------------------ 23.1/101.1 MB 59.5 MB/s eta 0:00:02\n",
      "   --------- ------------------------------ 23.1/101.1 MB 59.5 MB/s eta 0:00:02\n",
      "   --------- ------------------------------ 23.1/101.1 MB 59.5 MB/s eta 0:00:02\n",
      "   --------- ------------------------------ 23.1/101.1 MB 59.5 MB/s eta 0:00:02\n",
      "   --------- ------------------------------ 23.1/101.1 MB 59.5 MB/s eta 0:00:02\n",
      "   --------- ------------------------------ 23.1/101.1 MB 59.5 MB/s eta 0:00:02\n",
      "   --------- ------------------------------ 25.2/101.1 MB 21.8 MB/s eta 0:00:04\n",
      "   ---------- ----------------------------- 27.5/101.1 MB 21.8 MB/s eta 0:00:04\n",
      "   ------------ --------------------------- 30.5/101.1 MB 21.8 MB/s eta 0:00:04\n",
      "   ------------- -------------------------- 33.5/101.1 MB 59.5 MB/s eta 0:00:02\n",
      "   ------------- -------------------------- 33.5/101.1 MB 59.5 MB/s eta 0:00:02\n",
      "   ------------- -------------------------- 33.5/101.1 MB 59.5 MB/s eta 0:00:02\n",
      "   ------------- -------------------------- 33.5/101.1 MB 59.5 MB/s eta 0:00:02\n",
      "   ------------- -------------------------- 33.5/101.1 MB 59.5 MB/s eta 0:00:02\n",
      "   ------------- -------------------------- 33.5/101.1 MB 59.5 MB/s eta 0:00:02\n",
      "   ------------- -------------------------- 33.5/101.1 MB 59.5 MB/s eta 0:00:02\n",
      "   ------------- -------------------------- 35.4/101.1 MB 21.8 MB/s eta 0:00:04\n",
      "   --------------- ------------------------ 38.4/101.1 MB 22.6 MB/s eta 0:00:03\n",
      "   ---------------- ----------------------- 41.4/101.1 MB 22.5 MB/s eta 0:00:03\n",
      "   ----------------- ---------------------- 44.3/101.1 MB 65.6 MB/s eta 0:00:01\n",
      "   ------------------ --------------------- 47.2/101.1 MB 65.6 MB/s eta 0:00:01\n",
      "   ------------------- -------------------- 49.7/101.1 MB 65.6 MB/s eta 0:00:01\n",
      "   -------------------- ------------------- 52.7/101.1 MB 65.6 MB/s eta 0:00:01\n",
      "   --------------------- ------------------ 55.0/101.1 MB 59.5 MB/s eta 0:00:01\n",
      "   ----------------------- ---------------- 58.2/101.1 MB 59.5 MB/s eta 0:00:01\n",
      "   ------------------------ --------------- 61.3/101.1 MB 65.2 MB/s eta 0:00:01\n",
      "   ------------------------- -------------- 63.9/101.1 MB 59.5 MB/s eta 0:00:01\n",
      "   -------------------------- ------------- 67.3/101.1 MB 65.6 MB/s eta 0:00:01\n",
      "   --------------------------- ------------ 70.5/101.1 MB 65.6 MB/s eta 0:00:01\n",
      "   ---------------------------- ----------- 72.9/101.1 MB 65.6 MB/s eta 0:00:01\n",
      "   ------------------------------ --------- 76.6/101.1 MB 65.6 MB/s eta 0:00:01\n",
      "   ------------------------------- -------- 78.7/101.1 MB 59.5 MB/s eta 0:00:01\n",
      "   ------------------------------- -------- 79.7/101.1 MB 50.4 MB/s eta 0:00:01\n",
      "   -------------------------------- ------- 81.2/101.1 MB 46.7 MB/s eta 0:00:01\n",
      "   -------------------------------- ------- 82.1/101.1 MB 38.5 MB/s eta 0:00:01\n",
      "   -------------------------------- ------- 83.3/101.1 MB 36.4 MB/s eta 0:00:01\n",
      "   --------------------------------- ------ 84.6/101.1 MB 36.3 MB/s eta 0:00:01\n",
      "   --------------------------------- ------ 85.9/101.1 MB 31.1 MB/s eta 0:00:01\n",
      "   ---------------------------------- ----- 87.0/101.1 MB 28.5 MB/s eta 0:00:01\n",
      "   ---------------------------------- ----- 88.0/101.1 MB 26.2 MB/s eta 0:00:01\n",
      "   ----------------------------------- ---- 89.0/101.1 MB 25.2 MB/s eta 0:00:01\n",
      "   ----------------------------------- ---- 90.1/101.1 MB 25.2 MB/s eta 0:00:01\n",
      "   ------------------------------------ --- 91.1/101.1 MB 24.2 MB/s eta 0:00:01\n",
      "   ------------------------------------ --- 91.9/101.1 MB 23.4 MB/s eta 0:00:01\n",
      "   ------------------------------------ --- 93.0/101.1 MB 23.4 MB/s eta 0:00:01\n",
      "   ------------------------------------- -- 93.9/101.1 MB 22.5 MB/s eta 0:00:01\n",
      "   ------------------------------------- -- 95.0/101.1 MB 22.6 MB/s eta 0:00:01\n",
      "   -------------------------------------- - 96.1/101.1 MB 22.6 MB/s eta 0:00:01\n",
      "   -------------------------------------- - 97.2/101.1 MB 21.8 MB/s eta 0:00:01\n",
      "   -------------------------------------- - 98.4/101.1 MB 22.6 MB/s eta 0:00:01\n",
      "   ---------------------------------------  99.5/101.1 MB 22.6 MB/s eta 0:00:01\n",
      "   --------------------------------------  100.7/101.1 MB 23.4 MB/s eta 0:00:01\n",
      "   --------------------------------------  101.1/101.1 MB 23.4 MB/s eta 0:00:01\n",
      "   --------------------------------------  101.1/101.1 MB 23.4 MB/s eta 0:00:01\n",
      "   --------------------------------------  101.1/101.1 MB 23.4 MB/s eta 0:00:01\n",
      "   --------------------------------------  101.1/101.1 MB 23.4 MB/s eta 0:00:01\n",
      "   --------------------------------------  101.1/101.1 MB 23.4 MB/s eta 0:00:01\n",
      "   --------------------------------------  101.1/101.1 MB 23.4 MB/s eta 0:00:01\n",
      "   --------------------------------------  101.1/101.1 MB 23.4 MB/s eta 0:00:01\n",
      "   --------------------------------------  101.1/101.1 MB 23.4 MB/s eta 0:00:01\n",
      "   --------------------------------------- 101.1/101.1 MB 11.5 MB/s eta 0:00:00\n",
      "Downloading absl_py-2.0.0-py3-none-any.whl (130 kB)\n",
      "   ---------------------------------------- 0.0/130.2 kB ? eta -:--:--\n",
      "   ---------------------------------------- 130.2/130.2 kB 7.5 MB/s eta 0:00:00\n",
      "Downloading pandas-2.1.3-cp311-cp311-win_amd64.whl (10.6 MB)\n",
      "   ---------------------------------------- 0.0/10.6 MB ? eta -:--:--\n",
      "   ---- ----------------------------------- 1.3/10.6 MB 41.6 MB/s eta 0:00:01\n",
      "   -------- ------------------------------- 2.2/10.6 MB 28.4 MB/s eta 0:00:01\n",
      "   ------------- -------------------------- 3.6/10.6 MB 28.8 MB/s eta 0:00:01\n",
      "   ------------------- -------------------- 5.1/10.6 MB 29.4 MB/s eta 0:00:01\n",
      "   ------------------------ --------------- 6.4/10.6 MB 29.2 MB/s eta 0:00:01\n",
      "   ----------------------------- ---------- 7.8/10.6 MB 29.4 MB/s eta 0:00:01\n",
      "   ---------------------------------- ----- 9.3/10.6 MB 29.6 MB/s eta 0:00:01\n",
      "   ---------------------------------------  10.5/10.6 MB 29.7 MB/s eta 0:00:01\n",
      "   ---------------------------------------  10.6/10.6 MB 28.5 MB/s eta 0:00:01\n",
      "   ---------------------------------------- 10.6/10.6 MB 24.2 MB/s eta 0:00:00\n",
      "Downloading protobuf-4.25.1-cp310-abi3-win_amd64.whl (413 kB)\n",
      "   ---------------------------------------- 0.0/413.4 kB ? eta -:--:--\n",
      "   --------------------------------------- 413.4/413.4 kB 26.9 MB/s eta 0:00:00\n",
      "Installing collected packages: protobuf, absl-py, pandas, ortools\n",
      "  Attempting uninstall: protobuf\n",
      "    Found existing installation: protobuf 4.24.4\n",
      "    Uninstalling protobuf-4.24.4:\n",
      "      Successfully uninstalled protobuf-4.24.4\n",
      "Successfully installed absl-py-2.0.0 ortools-9.8.3296 pandas-2.1.3 protobuf-4.25.1\n"
     ]
    }
   ],
   "source": [
    "!pip install ortools"
   ]
  },
  {
   "cell_type": "code",
   "execution_count": 35,
   "id": "6386148a",
   "metadata": {},
   "outputs": [
    {
     "name": "stdout",
     "output_type": "stream",
     "text": [
      "The solution is optimal.\n",
      "Objective value: z* = 410.0\n",
      "Solution: x* = 30.00000000000002, y* = 39.99999999999998\n"
     ]
    }
   ],
   "source": [
    "from ortools.linear_solver import pywraplp\n",
    "\n",
    "# get solver \n",
    "solver = pywraplp.Solver.CreateSolver('GLOP')\n",
    "\n",
    "# declare decision variables\n",
    "x = solver.NumVar(0.0, solver.infinity(), 'x')\n",
    "y = solver.NumVar(0.0, solver.infinity(), 'y')\n",
    "\n",
    "# declare objective\n",
    "solver.Maximize(7*x+5*y)\n",
    "\n",
    "# declare constraints\n",
    "solver.Add(4*x+3*y<=240)\n",
    "solver.Add(2*x+y<=100)\n",
    "#solver.Add(5*x2 <= 100)\n",
    "\n",
    "# solve\n",
    "results = solver.Solve()\n",
    "\n",
    "# print results\n",
    "if results == pywraplp.Solver.OPTIMAL: print(f'The solution is optimal.') \n",
    "print(f'Objective value: z* = {solver.Objective().Value()}')\n",
    "print(f'Solution: x* = {x.solution_value()}, y* = {y.solution_value()}')"
   ]
  },
  {
   "cell_type": "code",
   "execution_count": null,
   "id": "f7c5eb1a",
   "metadata": {},
   "outputs": [],
   "source": [
    "The solution is optimal.\n",
    "Objective value: z* = 170.0\n",
    "Solution: x1* = 10.0, x2* = 14.0"
   ]
  }
 ],
 "metadata": {
  "kernelspec": {
   "display_name": "Python 3 (ipykernel)",
   "language": "python",
   "name": "python3"
  },
  "language_info": {
   "codemirror_mode": {
    "name": "ipython",
    "version": 3
   },
   "file_extension": ".py",
   "mimetype": "text/x-python",
   "name": "python",
   "nbconvert_exporter": "python",
   "pygments_lexer": "ipython3",
   "version": "3.11.4"
  }
 },
 "nbformat": 4,
 "nbformat_minor": 5
}
